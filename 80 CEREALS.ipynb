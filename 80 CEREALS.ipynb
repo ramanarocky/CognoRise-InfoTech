{
 "cells": [
  {
   "cell_type": "markdown",
   "id": "b9bdc1d9",
   "metadata": {},
   "source": [
    "# 80 Cereals Data Analysis"
   ]
  },
  {
   "cell_type": "markdown",
   "id": "ab5e7d6e",
   "metadata": {},
   "source": [
    "### Data Describtion:"
   ]
  },
  {
   "cell_type": "markdown",
   "id": "0a6ef62b",
   "metadata": {},
   "source": [
    "If you like to eat cereal, do yourself a favor and avoid this dataset at all costs.\n",
    "After seeing these data it will never be the same for me to eat Fruity Pebbles\n",
    "again.\n",
    "\n",
    "Problem Statement\n",
    "\n",
    "• Do an explained data analysis"
   ]
  },
  {
   "cell_type": "code",
   "execution_count": 1,
   "id": "3b927b66",
   "metadata": {},
   "outputs": [],
   "source": [
    "\"\"\"importing required libraries\n",
    "Pandas is a useful library in data handling. \n",
    "Numpy library used for working with arrays. \n",
    "Seaborn/Matplotlib are used for data visualisation purpose. \n",
    "Sklearn – This module contains multiple libraries having pre-implemented functions to perform tasks from data preprocessing to model development and evaluation. \n",
    "\"\"\"\n",
    "#importing required libraries\n",
    "import sklearn\n",
    "import numpy as np\n",
    "import pandas as pd\n",
    "import matplotlib.pyplot as plt\n",
    "import seaborn as sns\n",
    "\n",
    "#Surpress warnings\n",
    "import warnings\n",
    "warnings.filterwarnings('ignore')"
   ]
  },
  {
   "cell_type": "markdown",
   "id": "839b9f9f",
   "metadata": {},
   "source": [
    "### Step 1: Reading Dataset\n",
    "![image-2.png]\n",
    "1. Data importing and processing"
   ]
  },
  {
   "cell_type": "code",
   "execution_count": 2,
   "id": "d79678de",
   "metadata": {},
   "outputs": [
    {
     "data": {
      "text/html": [
       "<div>\n",
       "<style scoped>\n",
       "    .dataframe tbody tr th:only-of-type {\n",
       "        vertical-align: middle;\n",
       "    }\n",
       "\n",
       "    .dataframe tbody tr th {\n",
       "        vertical-align: top;\n",
       "    }\n",
       "\n",
       "    .dataframe thead th {\n",
       "        text-align: right;\n",
       "    }\n",
       "</style>\n",
       "<table border=\"1\" class=\"dataframe\">\n",
       "  <thead>\n",
       "    <tr style=\"text-align: right;\">\n",
       "      <th></th>\n",
       "      <th>name</th>\n",
       "      <th>mfr</th>\n",
       "      <th>type</th>\n",
       "      <th>calories</th>\n",
       "      <th>protein</th>\n",
       "      <th>fat</th>\n",
       "      <th>sodium</th>\n",
       "      <th>fiber</th>\n",
       "      <th>carbo</th>\n",
       "      <th>sugars</th>\n",
       "      <th>potass</th>\n",
       "      <th>vitamins</th>\n",
       "      <th>shelf</th>\n",
       "      <th>weight</th>\n",
       "      <th>cups</th>\n",
       "      <th>rating</th>\n",
       "    </tr>\n",
       "  </thead>\n",
       "  <tbody>\n",
       "    <tr>\n",
       "      <th>0</th>\n",
       "      <td>100% Bran</td>\n",
       "      <td>N</td>\n",
       "      <td>C</td>\n",
       "      <td>70</td>\n",
       "      <td>4</td>\n",
       "      <td>1</td>\n",
       "      <td>130</td>\n",
       "      <td>10.0</td>\n",
       "      <td>5.0</td>\n",
       "      <td>6</td>\n",
       "      <td>280</td>\n",
       "      <td>25</td>\n",
       "      <td>3</td>\n",
       "      <td>1.00</td>\n",
       "      <td>0.33</td>\n",
       "      <td>68.402973</td>\n",
       "    </tr>\n",
       "    <tr>\n",
       "      <th>1</th>\n",
       "      <td>100% Natural Bran</td>\n",
       "      <td>Q</td>\n",
       "      <td>C</td>\n",
       "      <td>120</td>\n",
       "      <td>3</td>\n",
       "      <td>5</td>\n",
       "      <td>15</td>\n",
       "      <td>2.0</td>\n",
       "      <td>8.0</td>\n",
       "      <td>8</td>\n",
       "      <td>135</td>\n",
       "      <td>0</td>\n",
       "      <td>3</td>\n",
       "      <td>1.00</td>\n",
       "      <td>1.00</td>\n",
       "      <td>33.983679</td>\n",
       "    </tr>\n",
       "    <tr>\n",
       "      <th>2</th>\n",
       "      <td>All-Bran</td>\n",
       "      <td>K</td>\n",
       "      <td>C</td>\n",
       "      <td>70</td>\n",
       "      <td>4</td>\n",
       "      <td>1</td>\n",
       "      <td>260</td>\n",
       "      <td>9.0</td>\n",
       "      <td>7.0</td>\n",
       "      <td>5</td>\n",
       "      <td>320</td>\n",
       "      <td>25</td>\n",
       "      <td>3</td>\n",
       "      <td>1.00</td>\n",
       "      <td>0.33</td>\n",
       "      <td>59.425505</td>\n",
       "    </tr>\n",
       "    <tr>\n",
       "      <th>3</th>\n",
       "      <td>All-Bran with Extra Fiber</td>\n",
       "      <td>K</td>\n",
       "      <td>C</td>\n",
       "      <td>50</td>\n",
       "      <td>4</td>\n",
       "      <td>0</td>\n",
       "      <td>140</td>\n",
       "      <td>14.0</td>\n",
       "      <td>8.0</td>\n",
       "      <td>0</td>\n",
       "      <td>330</td>\n",
       "      <td>25</td>\n",
       "      <td>3</td>\n",
       "      <td>1.00</td>\n",
       "      <td>0.50</td>\n",
       "      <td>93.704912</td>\n",
       "    </tr>\n",
       "    <tr>\n",
       "      <th>4</th>\n",
       "      <td>Almond Delight</td>\n",
       "      <td>R</td>\n",
       "      <td>C</td>\n",
       "      <td>110</td>\n",
       "      <td>2</td>\n",
       "      <td>2</td>\n",
       "      <td>200</td>\n",
       "      <td>1.0</td>\n",
       "      <td>14.0</td>\n",
       "      <td>8</td>\n",
       "      <td>-1</td>\n",
       "      <td>25</td>\n",
       "      <td>3</td>\n",
       "      <td>1.00</td>\n",
       "      <td>0.75</td>\n",
       "      <td>34.384843</td>\n",
       "    </tr>\n",
       "    <tr>\n",
       "      <th>5</th>\n",
       "      <td>Apple Cinnamon Cheerios</td>\n",
       "      <td>G</td>\n",
       "      <td>C</td>\n",
       "      <td>110</td>\n",
       "      <td>2</td>\n",
       "      <td>2</td>\n",
       "      <td>180</td>\n",
       "      <td>1.5</td>\n",
       "      <td>10.5</td>\n",
       "      <td>10</td>\n",
       "      <td>70</td>\n",
       "      <td>25</td>\n",
       "      <td>1</td>\n",
       "      <td>1.00</td>\n",
       "      <td>0.75</td>\n",
       "      <td>29.509541</td>\n",
       "    </tr>\n",
       "    <tr>\n",
       "      <th>6</th>\n",
       "      <td>Apple Jacks</td>\n",
       "      <td>K</td>\n",
       "      <td>C</td>\n",
       "      <td>110</td>\n",
       "      <td>2</td>\n",
       "      <td>0</td>\n",
       "      <td>125</td>\n",
       "      <td>1.0</td>\n",
       "      <td>11.0</td>\n",
       "      <td>14</td>\n",
       "      <td>30</td>\n",
       "      <td>25</td>\n",
       "      <td>2</td>\n",
       "      <td>1.00</td>\n",
       "      <td>1.00</td>\n",
       "      <td>33.174094</td>\n",
       "    </tr>\n",
       "    <tr>\n",
       "      <th>7</th>\n",
       "      <td>Basic 4</td>\n",
       "      <td>G</td>\n",
       "      <td>C</td>\n",
       "      <td>130</td>\n",
       "      <td>3</td>\n",
       "      <td>2</td>\n",
       "      <td>210</td>\n",
       "      <td>2.0</td>\n",
       "      <td>18.0</td>\n",
       "      <td>8</td>\n",
       "      <td>100</td>\n",
       "      <td>25</td>\n",
       "      <td>3</td>\n",
       "      <td>1.33</td>\n",
       "      <td>0.75</td>\n",
       "      <td>37.038562</td>\n",
       "    </tr>\n",
       "    <tr>\n",
       "      <th>8</th>\n",
       "      <td>Bran Chex</td>\n",
       "      <td>R</td>\n",
       "      <td>C</td>\n",
       "      <td>90</td>\n",
       "      <td>2</td>\n",
       "      <td>1</td>\n",
       "      <td>200</td>\n",
       "      <td>4.0</td>\n",
       "      <td>15.0</td>\n",
       "      <td>6</td>\n",
       "      <td>125</td>\n",
       "      <td>25</td>\n",
       "      <td>1</td>\n",
       "      <td>1.00</td>\n",
       "      <td>0.67</td>\n",
       "      <td>49.120253</td>\n",
       "    </tr>\n",
       "    <tr>\n",
       "      <th>9</th>\n",
       "      <td>Bran Flakes</td>\n",
       "      <td>P</td>\n",
       "      <td>C</td>\n",
       "      <td>90</td>\n",
       "      <td>3</td>\n",
       "      <td>0</td>\n",
       "      <td>210</td>\n",
       "      <td>5.0</td>\n",
       "      <td>13.0</td>\n",
       "      <td>5</td>\n",
       "      <td>190</td>\n",
       "      <td>25</td>\n",
       "      <td>3</td>\n",
       "      <td>1.00</td>\n",
       "      <td>0.67</td>\n",
       "      <td>53.313813</td>\n",
       "    </tr>\n",
       "    <tr>\n",
       "      <th>10</th>\n",
       "      <td>Cap'n'Crunch</td>\n",
       "      <td>Q</td>\n",
       "      <td>C</td>\n",
       "      <td>120</td>\n",
       "      <td>1</td>\n",
       "      <td>2</td>\n",
       "      <td>220</td>\n",
       "      <td>0.0</td>\n",
       "      <td>12.0</td>\n",
       "      <td>12</td>\n",
       "      <td>35</td>\n",
       "      <td>25</td>\n",
       "      <td>2</td>\n",
       "      <td>1.00</td>\n",
       "      <td>0.75</td>\n",
       "      <td>18.042851</td>\n",
       "    </tr>\n",
       "    <tr>\n",
       "      <th>11</th>\n",
       "      <td>Cheerios</td>\n",
       "      <td>G</td>\n",
       "      <td>C</td>\n",
       "      <td>110</td>\n",
       "      <td>6</td>\n",
       "      <td>2</td>\n",
       "      <td>290</td>\n",
       "      <td>2.0</td>\n",
       "      <td>17.0</td>\n",
       "      <td>1</td>\n",
       "      <td>105</td>\n",
       "      <td>25</td>\n",
       "      <td>1</td>\n",
       "      <td>1.00</td>\n",
       "      <td>1.25</td>\n",
       "      <td>50.764999</td>\n",
       "    </tr>\n",
       "    <tr>\n",
       "      <th>12</th>\n",
       "      <td>Cinnamon Toast Crunch</td>\n",
       "      <td>G</td>\n",
       "      <td>C</td>\n",
       "      <td>120</td>\n",
       "      <td>1</td>\n",
       "      <td>3</td>\n",
       "      <td>210</td>\n",
       "      <td>0.0</td>\n",
       "      <td>13.0</td>\n",
       "      <td>9</td>\n",
       "      <td>45</td>\n",
       "      <td>25</td>\n",
       "      <td>2</td>\n",
       "      <td>1.00</td>\n",
       "      <td>0.75</td>\n",
       "      <td>19.823573</td>\n",
       "    </tr>\n",
       "    <tr>\n",
       "      <th>13</th>\n",
       "      <td>Clusters</td>\n",
       "      <td>G</td>\n",
       "      <td>C</td>\n",
       "      <td>110</td>\n",
       "      <td>3</td>\n",
       "      <td>2</td>\n",
       "      <td>140</td>\n",
       "      <td>2.0</td>\n",
       "      <td>13.0</td>\n",
       "      <td>7</td>\n",
       "      <td>105</td>\n",
       "      <td>25</td>\n",
       "      <td>3</td>\n",
       "      <td>1.00</td>\n",
       "      <td>0.50</td>\n",
       "      <td>40.400208</td>\n",
       "    </tr>\n",
       "    <tr>\n",
       "      <th>14</th>\n",
       "      <td>Cocoa Puffs</td>\n",
       "      <td>G</td>\n",
       "      <td>C</td>\n",
       "      <td>110</td>\n",
       "      <td>1</td>\n",
       "      <td>1</td>\n",
       "      <td>180</td>\n",
       "      <td>0.0</td>\n",
       "      <td>12.0</td>\n",
       "      <td>13</td>\n",
       "      <td>55</td>\n",
       "      <td>25</td>\n",
       "      <td>2</td>\n",
       "      <td>1.00</td>\n",
       "      <td>1.00</td>\n",
       "      <td>22.736446</td>\n",
       "    </tr>\n",
       "  </tbody>\n",
       "</table>\n",
       "</div>"
      ],
      "text/plain": [
       "                         name mfr type  calories  protein  fat  sodium  fiber  \\\n",
       "0                   100% Bran   N    C        70        4    1     130   10.0   \n",
       "1           100% Natural Bran   Q    C       120        3    5      15    2.0   \n",
       "2                    All-Bran   K    C        70        4    1     260    9.0   \n",
       "3   All-Bran with Extra Fiber   K    C        50        4    0     140   14.0   \n",
       "4              Almond Delight   R    C       110        2    2     200    1.0   \n",
       "5     Apple Cinnamon Cheerios   G    C       110        2    2     180    1.5   \n",
       "6                 Apple Jacks   K    C       110        2    0     125    1.0   \n",
       "7                     Basic 4   G    C       130        3    2     210    2.0   \n",
       "8                   Bran Chex   R    C        90        2    1     200    4.0   \n",
       "9                 Bran Flakes   P    C        90        3    0     210    5.0   \n",
       "10               Cap'n'Crunch   Q    C       120        1    2     220    0.0   \n",
       "11                   Cheerios   G    C       110        6    2     290    2.0   \n",
       "12      Cinnamon Toast Crunch   G    C       120        1    3     210    0.0   \n",
       "13                   Clusters   G    C       110        3    2     140    2.0   \n",
       "14                Cocoa Puffs   G    C       110        1    1     180    0.0   \n",
       "\n",
       "    carbo  sugars  potass  vitamins  shelf  weight  cups     rating  \n",
       "0     5.0       6     280        25      3    1.00  0.33  68.402973  \n",
       "1     8.0       8     135         0      3    1.00  1.00  33.983679  \n",
       "2     7.0       5     320        25      3    1.00  0.33  59.425505  \n",
       "3     8.0       0     330        25      3    1.00  0.50  93.704912  \n",
       "4    14.0       8      -1        25      3    1.00  0.75  34.384843  \n",
       "5    10.5      10      70        25      1    1.00  0.75  29.509541  \n",
       "6    11.0      14      30        25      2    1.00  1.00  33.174094  \n",
       "7    18.0       8     100        25      3    1.33  0.75  37.038562  \n",
       "8    15.0       6     125        25      1    1.00  0.67  49.120253  \n",
       "9    13.0       5     190        25      3    1.00  0.67  53.313813  \n",
       "10   12.0      12      35        25      2    1.00  0.75  18.042851  \n",
       "11   17.0       1     105        25      1    1.00  1.25  50.764999  \n",
       "12   13.0       9      45        25      2    1.00  0.75  19.823573  \n",
       "13   13.0       7     105        25      3    1.00  0.50  40.400208  \n",
       "14   12.0      13      55        25      2    1.00  1.00  22.736446  "
      ]
     },
     "execution_count": 2,
     "metadata": {},
     "output_type": "execute_result"
    }
   ],
   "source": [
    "df = pd.read_csv('cereal.csv') \n",
    "#Displaying a sample of the dataset to get sn overview of the data structure.\n",
    "df.head(15)"
   ]
  },
  {
   "cell_type": "code",
   "execution_count": 3,
   "id": "0ee72cde",
   "metadata": {},
   "outputs": [
    {
     "name": "stdout",
     "output_type": "stream",
     "text": [
      "<class 'pandas.core.frame.DataFrame'>\n",
      "RangeIndex: 77 entries, 0 to 76\n",
      "Data columns (total 16 columns):\n",
      " #   Column    Non-Null Count  Dtype  \n",
      "---  ------    --------------  -----  \n",
      " 0   name      77 non-null     object \n",
      " 1   mfr       77 non-null     object \n",
      " 2   type      77 non-null     object \n",
      " 3   calories  77 non-null     int64  \n",
      " 4   protein   77 non-null     int64  \n",
      " 5   fat       77 non-null     int64  \n",
      " 6   sodium    77 non-null     int64  \n",
      " 7   fiber     77 non-null     float64\n",
      " 8   carbo     77 non-null     float64\n",
      " 9   sugars    77 non-null     int64  \n",
      " 10  potass    77 non-null     int64  \n",
      " 11  vitamins  77 non-null     int64  \n",
      " 12  shelf     77 non-null     int64  \n",
      " 13  weight    77 non-null     float64\n",
      " 14  cups      77 non-null     float64\n",
      " 15  rating    77 non-null     float64\n",
      "dtypes: float64(5), int64(8), object(3)\n",
      "memory usage: 9.8+ KB\n"
     ]
    }
   ],
   "source": [
    "#more information on the dataset\n",
    "df.info()"
   ]
  },
  {
   "cell_type": "code",
   "execution_count": 4,
   "id": "573f5bd7",
   "metadata": {},
   "outputs": [
    {
     "name": "stdout",
     "output_type": "stream",
     "text": [
      "                       name mfr type  calories  protein  fat  sodium  fiber  \\\n",
      "0                 100% Bran   N    C        70        4    1     130   10.0   \n",
      "1         100% Natural Bran   Q    C       120        3    5      15    2.0   \n",
      "2                  All-Bran   K    C        70        4    1     260    9.0   \n",
      "5   Apple Cinnamon Cheerios   G    C       110        2    2     180    1.5   \n",
      "6               Apple Jacks   K    C       110        2    0     125    1.0   \n",
      "..                      ...  ..  ...       ...      ...  ...     ...    ...   \n",
      "72                  Triples   G    C       110        2    1     250    0.0   \n",
      "73                     Trix   G    C       110        1    1     140    0.0   \n",
      "74               Wheat Chex   R    C       100        3    1     230    3.0   \n",
      "75                 Wheaties   G    C       100        3    1     200    3.0   \n",
      "76      Wheaties Honey Gold   G    C       110        2    1     200    1.0   \n",
      "\n",
      "    carbo  sugars  potass  vitamins  shelf  weight  cups     rating  \n",
      "0     5.0       6     280        25      3     1.0  0.33  68.402973  \n",
      "1     8.0       8     135         0      3     1.0  1.00  33.983679  \n",
      "2     7.0       5     320        25      3     1.0  0.33  59.425505  \n",
      "5    10.5      10      70        25      1     1.0  0.75  29.509541  \n",
      "6    11.0      14      30        25      2     1.0  1.00  33.174094  \n",
      "..    ...     ...     ...       ...    ...     ...   ...        ...  \n",
      "72   21.0       3      60        25      3     1.0  0.75  39.106174  \n",
      "73   13.0      12      25        25      2     1.0  1.00  27.753301  \n",
      "74   17.0       3     115        25      1     1.0  0.67  49.787445  \n",
      "75   17.0       3     110        25      1     1.0  1.00  51.592193  \n",
      "76   16.0       8      60        25      1     1.0  0.75  36.187559  \n",
      "\n",
      "[68 rows x 16 columns]\n"
     ]
    }
   ],
   "source": [
    "#removing rows with negative values in 'sugar' and 'potass'\n",
    "df = df[(df['sugars']>0) & (df['potass']>0)]\n",
    "\n",
    "#verifying that the rows are renoved\n",
    "print(df)"
   ]
  },
  {
   "cell_type": "code",
   "execution_count": 5,
   "id": "fea75860",
   "metadata": {},
   "outputs": [
    {
     "data": {
      "text/html": [
       "<div>\n",
       "<style scoped>\n",
       "    .dataframe tbody tr th:only-of-type {\n",
       "        vertical-align: middle;\n",
       "    }\n",
       "\n",
       "    .dataframe tbody tr th {\n",
       "        vertical-align: top;\n",
       "    }\n",
       "\n",
       "    .dataframe thead th {\n",
       "        text-align: right;\n",
       "    }\n",
       "</style>\n",
       "<table border=\"1\" class=\"dataframe\">\n",
       "  <thead>\n",
       "    <tr style=\"text-align: right;\">\n",
       "      <th></th>\n",
       "      <th>calories</th>\n",
       "      <th>protein</th>\n",
       "      <th>fat</th>\n",
       "      <th>sodium</th>\n",
       "      <th>fiber</th>\n",
       "      <th>carbo</th>\n",
       "      <th>sugars</th>\n",
       "      <th>potass</th>\n",
       "      <th>vitamins</th>\n",
       "      <th>shelf</th>\n",
       "      <th>weight</th>\n",
       "      <th>cups</th>\n",
       "      <th>rating</th>\n",
       "    </tr>\n",
       "  </thead>\n",
       "  <tbody>\n",
       "    <tr>\n",
       "      <th>count</th>\n",
       "      <td>68.000000</td>\n",
       "      <td>68.000000</td>\n",
       "      <td>68.000000</td>\n",
       "      <td>68.000000</td>\n",
       "      <td>68.000000</td>\n",
       "      <td>68.000000</td>\n",
       "      <td>68.000000</td>\n",
       "      <td>68.000000</td>\n",
       "      <td>68.000000</td>\n",
       "      <td>68.000000</td>\n",
       "      <td>68.000000</td>\n",
       "      <td>68.000000</td>\n",
       "      <td>68.000000</td>\n",
       "    </tr>\n",
       "    <tr>\n",
       "      <th>mean</th>\n",
       "      <td>110.441176</td>\n",
       "      <td>2.514706</td>\n",
       "      <td>1.088235</td>\n",
       "      <td>174.632353</td>\n",
       "      <td>2.000000</td>\n",
       "      <td>14.764706</td>\n",
       "      <td>7.735294</td>\n",
       "      <td>96.176471</td>\n",
       "      <td>31.250000</td>\n",
       "      <td>2.235294</td>\n",
       "      <td>1.050735</td>\n",
       "      <td>0.822941</td>\n",
       "      <td>39.743161</td>\n",
       "    </tr>\n",
       "    <tr>\n",
       "      <th>std</th>\n",
       "      <td>15.875808</td>\n",
       "      <td>1.085765</td>\n",
       "      <td>1.003506</td>\n",
       "      <td>73.053426</td>\n",
       "      <td>2.029631</td>\n",
       "      <td>3.838601</td>\n",
       "      <td>3.972358</td>\n",
       "      <td>67.054876</td>\n",
       "      <td>21.758083</td>\n",
       "      <td>0.812544</td>\n",
       "      <td>0.127224</td>\n",
       "      <td>0.238497</td>\n",
       "      <td>10.846888</td>\n",
       "    </tr>\n",
       "    <tr>\n",
       "      <th>min</th>\n",
       "      <td>70.000000</td>\n",
       "      <td>1.000000</td>\n",
       "      <td>0.000000</td>\n",
       "      <td>0.000000</td>\n",
       "      <td>0.000000</td>\n",
       "      <td>5.000000</td>\n",
       "      <td>1.000000</td>\n",
       "      <td>20.000000</td>\n",
       "      <td>0.000000</td>\n",
       "      <td>1.000000</td>\n",
       "      <td>1.000000</td>\n",
       "      <td>0.250000</td>\n",
       "      <td>18.042851</td>\n",
       "    </tr>\n",
       "    <tr>\n",
       "      <th>25%</th>\n",
       "      <td>100.000000</td>\n",
       "      <td>2.000000</td>\n",
       "      <td>0.000000</td>\n",
       "      <td>140.000000</td>\n",
       "      <td>0.000000</td>\n",
       "      <td>12.000000</td>\n",
       "      <td>3.750000</td>\n",
       "      <td>40.000000</td>\n",
       "      <td>25.000000</td>\n",
       "      <td>2.000000</td>\n",
       "      <td>1.000000</td>\n",
       "      <td>0.670000</td>\n",
       "      <td>31.384493</td>\n",
       "    </tr>\n",
       "    <tr>\n",
       "      <th>50%</th>\n",
       "      <td>110.000000</td>\n",
       "      <td>2.500000</td>\n",
       "      <td>1.000000</td>\n",
       "      <td>180.000000</td>\n",
       "      <td>1.750000</td>\n",
       "      <td>14.500000</td>\n",
       "      <td>7.500000</td>\n",
       "      <td>90.000000</td>\n",
       "      <td>25.000000</td>\n",
       "      <td>2.000000</td>\n",
       "      <td>1.000000</td>\n",
       "      <td>0.750000</td>\n",
       "      <td>39.250156</td>\n",
       "    </tr>\n",
       "    <tr>\n",
       "      <th>75%</th>\n",
       "      <td>120.000000</td>\n",
       "      <td>3.000000</td>\n",
       "      <td>2.000000</td>\n",
       "      <td>220.000000</td>\n",
       "      <td>3.000000</td>\n",
       "      <td>17.000000</td>\n",
       "      <td>11.000000</td>\n",
       "      <td>120.000000</td>\n",
       "      <td>25.000000</td>\n",
       "      <td>3.000000</td>\n",
       "      <td>1.000000</td>\n",
       "      <td>1.000000</td>\n",
       "      <td>46.718044</td>\n",
       "    </tr>\n",
       "    <tr>\n",
       "      <th>max</th>\n",
       "      <td>160.000000</td>\n",
       "      <td>6.000000</td>\n",
       "      <td>5.000000</td>\n",
       "      <td>320.000000</td>\n",
       "      <td>10.000000</td>\n",
       "      <td>23.000000</td>\n",
       "      <td>15.000000</td>\n",
       "      <td>320.000000</td>\n",
       "      <td>100.000000</td>\n",
       "      <td>3.000000</td>\n",
       "      <td>1.500000</td>\n",
       "      <td>1.500000</td>\n",
       "      <td>68.402973</td>\n",
       "    </tr>\n",
       "  </tbody>\n",
       "</table>\n",
       "</div>"
      ],
      "text/plain": [
       "         calories    protein        fat      sodium      fiber      carbo  \\\n",
       "count   68.000000  68.000000  68.000000   68.000000  68.000000  68.000000   \n",
       "mean   110.441176   2.514706   1.088235  174.632353   2.000000  14.764706   \n",
       "std     15.875808   1.085765   1.003506   73.053426   2.029631   3.838601   \n",
       "min     70.000000   1.000000   0.000000    0.000000   0.000000   5.000000   \n",
       "25%    100.000000   2.000000   0.000000  140.000000   0.000000  12.000000   \n",
       "50%    110.000000   2.500000   1.000000  180.000000   1.750000  14.500000   \n",
       "75%    120.000000   3.000000   2.000000  220.000000   3.000000  17.000000   \n",
       "max    160.000000   6.000000   5.000000  320.000000  10.000000  23.000000   \n",
       "\n",
       "          sugars      potass    vitamins      shelf     weight       cups  \\\n",
       "count  68.000000   68.000000   68.000000  68.000000  68.000000  68.000000   \n",
       "mean    7.735294   96.176471   31.250000   2.235294   1.050735   0.822941   \n",
       "std     3.972358   67.054876   21.758083   0.812544   0.127224   0.238497   \n",
       "min     1.000000   20.000000    0.000000   1.000000   1.000000   0.250000   \n",
       "25%     3.750000   40.000000   25.000000   2.000000   1.000000   0.670000   \n",
       "50%     7.500000   90.000000   25.000000   2.000000   1.000000   0.750000   \n",
       "75%    11.000000  120.000000   25.000000   3.000000   1.000000   1.000000   \n",
       "max    15.000000  320.000000  100.000000   3.000000   1.500000   1.500000   \n",
       "\n",
       "          rating  \n",
       "count  68.000000  \n",
       "mean   39.743161  \n",
       "std    10.846888  \n",
       "min    18.042851  \n",
       "25%    31.384493  \n",
       "50%    39.250156  \n",
       "75%    46.718044  \n",
       "max    68.402973  "
      ]
     },
     "execution_count": 5,
     "metadata": {},
     "output_type": "execute_result"
    }
   ],
   "source": [
    "df.describe()"
   ]
  },
  {
   "cell_type": "code",
   "execution_count": 6,
   "id": "357751b2",
   "metadata": {},
   "outputs": [
    {
     "name": "stdout",
     "output_type": "stream",
     "text": [
      "Missing values :\n",
      " name        0\n",
      "mfr         0\n",
      "type        0\n",
      "calories    0\n",
      "protein     0\n",
      "fat         0\n",
      "sodium      0\n",
      "fiber       0\n",
      "carbo       0\n",
      "sugars      0\n",
      "potass      0\n",
      "vitamins    0\n",
      "shelf       0\n",
      "weight      0\n",
      "cups        0\n",
      "rating      0\n",
      "dtype: int64\n"
     ]
    }
   ],
   "source": [
    "missing_values = df.isnull().sum()\n",
    "print(\"Missing values :\\n\",missing_values)"
   ]
  },
  {
   "cell_type": "code",
   "execution_count": 7,
   "id": "b3ffcddb",
   "metadata": {},
   "outputs": [
    {
     "name": "stdout",
     "output_type": "stream",
     "text": [
      "0\n"
     ]
    }
   ],
   "source": [
    "print(df.duplicated().sum())"
   ]
  },
  {
   "cell_type": "code",
   "execution_count": 8,
   "id": "de9ba8b7",
   "metadata": {},
   "outputs": [
    {
     "data": {
      "text/plain": [
       "Index(['name', 'mfr', 'type', 'calories', 'protein', 'fat', 'sodium', 'fiber',\n",
       "       'carbo', 'sugars', 'potass', 'vitamins', 'shelf', 'weight', 'cups',\n",
       "       'rating'],\n",
       "      dtype='object')"
      ]
     },
     "execution_count": 8,
     "metadata": {},
     "output_type": "execute_result"
    }
   ],
   "source": [
    "df.columns"
   ]
  },
  {
   "cell_type": "code",
   "execution_count": 9,
   "id": "d6bcc300",
   "metadata": {},
   "outputs": [
    {
     "data": {
      "text/plain": [
       "array(['N', 'Q', 'K', 'G', 'R', 'P', 'A'], dtype=object)"
      ]
     },
     "execution_count": 9,
     "metadata": {},
     "output_type": "execute_result"
    }
   ],
   "source": [
    "df['mfr'].unique()"
   ]
  },
  {
   "cell_type": "code",
   "execution_count": 10,
   "id": "ed961a4f",
   "metadata": {},
   "outputs": [],
   "source": [
    "#What are the unique manufacturerers in the dataset\n",
    "#Creating a dictinary to map the manufacturer codes to their full names\n",
    "manufacturer_mapping = {\n",
    "    'A' : 'American Home Food Products',\n",
    "    'G' : 'General Mills',\n",
    "    'K' : 'Kelloggs',\n",
    "    'N' : 'Nabisco',\n",
    "    'P' : 'Post',\n",
    "    'Q' : 'Quaker Oats',\n",
    "    'R' : 'Ralston Purina'\n",
    "    }\n",
    "#Repacing the manufacturer codes with the full names in the 'mfr' column\n",
    "df['mfr'] = df['mfr'].map(manufacturer_mapping)"
   ]
  },
  {
   "cell_type": "code",
   "execution_count": 11,
   "id": "09e46ea4",
   "metadata": {},
   "outputs": [
    {
     "name": "stdout",
     "output_type": "stream",
     "text": [
      "Uique Manufactures: ['Nabisco' 'Quaker Oats' 'Kelloggs' 'General Mills' 'Ralston Purina'\n",
      " 'Post' 'American Home Food Products']\n"
     ]
    }
   ],
   "source": [
    "unique_manufactures = df['mfr'].unique()\n",
    "print(\"Uique Manufactures:\",unique_manufactures)"
   ]
  },
  {
   "cell_type": "code",
   "execution_count": 12,
   "id": "9ec7b1a1",
   "metadata": {},
   "outputs": [
    {
     "name": "stdout",
     "output_type": "stream",
     "text": [
      "Cereal Type Distrinution :\n",
      " C    67\n",
      "H     1\n",
      "Name: type, dtype: int64\n"
     ]
    }
   ],
   "source": [
    "cereal_type_counts = df['type'].value_counts()\n",
    "print(\"Cereal Type Distrinution :\\n\",cereal_type_counts)"
   ]
  },
  {
   "cell_type": "code",
   "execution_count": 13,
   "id": "eaa98388",
   "metadata": {},
   "outputs": [
    {
     "name": "stdout",
     "output_type": "stream",
     "text": [
      "Summary Statistics of Numerical Features:\n",
      "          calories    protein        fat      sodium      fiber      carbo  \\\n",
      "count   68.000000  68.000000  68.000000   68.000000  68.000000  68.000000   \n",
      "mean   110.441176   2.514706   1.088235  174.632353   2.000000  14.764706   \n",
      "std     15.875808   1.085765   1.003506   73.053426   2.029631   3.838601   \n",
      "min     70.000000   1.000000   0.000000    0.000000   0.000000   5.000000   \n",
      "25%    100.000000   2.000000   0.000000  140.000000   0.000000  12.000000   \n",
      "50%    110.000000   2.500000   1.000000  180.000000   1.750000  14.500000   \n",
      "75%    120.000000   3.000000   2.000000  220.000000   3.000000  17.000000   \n",
      "max    160.000000   6.000000   5.000000  320.000000  10.000000  23.000000   \n",
      "\n",
      "          sugars      potass    vitamins     weight       cups  \n",
      "count  68.000000   68.000000   68.000000  68.000000  68.000000  \n",
      "mean    7.735294   96.176471   31.250000   1.050735   0.822941  \n",
      "std     3.972358   67.054876   21.758083   0.127224   0.238497  \n",
      "min     1.000000   20.000000    0.000000   1.000000   0.250000  \n",
      "25%     3.750000   40.000000   25.000000   1.000000   0.670000  \n",
      "50%     7.500000   90.000000   25.000000   1.000000   0.750000  \n",
      "75%    11.000000  120.000000   25.000000   1.000000   1.000000  \n",
      "max    15.000000  320.000000  100.000000   1.500000   1.500000  \n"
     ]
    }
   ],
   "source": [
    "# investigating the summary statistics of numerical features\n",
    "numerical_columns = ['calories', 'protein', 'fat', 'sodium', 'fiber', 'carbo', 'sugars', 'potass', 'vitamins', 'weight', 'cups']\n",
    "numerical_stats = df[numerical_columns].describe()\n",
    "print(\"Summary Statistics of Numerical Features:\\n\", numerical_stats)"
   ]
  },
  {
   "cell_type": "code",
   "execution_count": 14,
   "id": "61bef39d",
   "metadata": {},
   "outputs": [
    {
     "data": {
      "image/png": "[encoded data removed]",
      "text/plain": [
       "<Figure size 720x432 with 1 Axes>"
      ]
     },
     "metadata": {
      "needs_background": "light"
     },
     "output_type": "display_data"
    }
   ],
   "source": [
    "#Creating a bar chart showing the count of cereals by manufactures\n",
    "#bar chart showing the count od cereals by manufactures\n",
    "plt.figure(figsize=(10,6))\n",
    "sns.countplot(x='mfr', data=df)\n",
    "plt.xlabel('Manufacturer')\n",
    "plt.ylabel('Count')\n",
    "plt.title('Cereal Count by Manufacturer')\n",
    "plt.xticks(rotation = 45, ha = 'right')\n",
    "plt.show()"
   ]
  },
  {
   "cell_type": "code",
   "execution_count": 15,
   "id": "e73971fe",
   "metadata": {},
   "outputs": [
    {
     "data": {
      "image/png": "[encoded data removed]",
      "text/plain": [
       "<Figure size 720x432 with 1 Axes>"
      ]
     },
     "metadata": {
      "needs_background": "light"
     },
     "output_type": "display_data"
    }
   ],
   "source": [
    "#Histogram for the distribution of calories\n",
    "plt.figure(figsize=(10,6))\n",
    "plt.hist(df['calories'], bins=10, edgecolor='black')\n",
    "plt.xlabel('Calories')\n",
    "plt.ylabel('Frequency')\n",
    "plt.title('Distribution of Calories')\n",
    "plt.show()"
   ]
  },
  {
   "cell_type": "code",
   "execution_count": 16,
   "id": "f75357f7",
   "metadata": {},
   "outputs": [
    {
     "data": {
      "image/png": "[encoded data removed]",
      "text/plain": [
       "<Figure size 576x432 with 1 Axes>"
      ]
     },
     "metadata": {
      "needs_background": "light"
     },
     "output_type": "display_data"
    }
   ],
   "source": [
    "#Summary Statistics of vitamins\n",
    "vitamins_stats = df['vitamins'].describe()\n",
    "\n",
    "#Visualization of the distribution of vitamins\n",
    "plt.figure(figsize =(8,6))\n",
    "plt.hist(df['vitamins'], bins=3, edgecolor='black')\n",
    "plt.xlabel('Vitamins')\n",
    "plt.ylabel('Frequency')\n",
    "plt.title(\"Sistribution of Vitamins\")\n",
    "plt.xticks([0,25,100],['0%','25%','100%'])\n",
    "plt.show()"
   ]
  },
  {
   "cell_type": "code",
   "execution_count": 17,
   "id": "a8acfda9",
   "metadata": {},
   "outputs": [
    {
     "data": {
      "image/png": "[encoded data removed]",
      "text/plain": [
       "<Figure size 576x432 with 1 Axes>"
      ]
     },
     "metadata": {
      "needs_background": "light"
     },
     "output_type": "display_data"
    }
   ],
   "source": [
    "#summary statistics of rating grouped byshelf placement\n",
    "rating_stats = df.groupby('shelf')['rating'].describe()\n",
    "\n",
    "#box plot of rating by shelf placement\n",
    "plt.figure(figsize=(8,6))\n",
    "sns.boxplot(data=df, x='shelf', y='rating')\n",
    "plt.xlabel('Shelf Placement')\n",
    "plt.ylabel('Rating')\n",
    "plt.title('Relationship between Shelf Placement and Rating')\n",
    "plt.show()"
   ]
  },
  {
   "cell_type": "code",
   "execution_count": null,
   "id": "f164b4ae",
   "metadata": {},
   "outputs": [],
   "source": []
  },
  {
   "cell_type": "code",
   "execution_count": 19,
   "id": "33553b92",
   "metadata": {},
   "outputs": [
    {
     "data": {
      "image/png": "[encoded data removed]",
      "text/plain": [
       "<Figure size 720x432 with 1 Axes>"
      ]
     },
     "metadata": {
      "needs_background": "light"
     },
     "output_type": "display_data"
    }
   ],
   "source": [
    "#Select the top 10 cereals with the highest ratings\n",
    "\n",
    "top_10_cereals = df.nlargest(10, 'rating')\n",
    "\n",
    "#Create a horizontal bar chart\n",
    "plt.figure(figsize=(10, 6))\n",
    "plt.barh(top_10_cereals['name'], top_10_cereals['rating'])\n",
    "plt.xlabel('Rating')\n",
    "plt.ylabel('Cereal')\n",
    "plt.title('Top 10 cereals with the Highest Ratings')\n",
    "plt.tight_layout()\n",
    "plt.show()"
   ]
  },
  {
   "cell_type": "code",
   "execution_count": 20,
   "id": "4370e282",
   "metadata": {},
   "outputs": [
    {
     "data": {
      "image/png": "[encoded data removed]",
      "text/plain": [
       "<Figure size 720x432 with 1 Axes>"
      ]
     },
     "metadata": {
      "needs_background": "light"
     },
     "output_type": "display_data"
    }
   ],
   "source": [
    "#Select the bottom 10 cereals with the lowest ratings\n",
    "bottom_10_cereals = df.nsmallest(10, 'rating')\n",
    "\n",
    "#Create a horizontal bat chart\n",
    "plt.figure(figsize = (10, 6))\n",
    "plt.barh(bottom_10_cereals['name'], bottom_10_cereals['rating'])\n",
    "plt.xlabel('Rating')\n",
    "plt.ylabel('Cereal')\n",
    "plt.title('Bottom 10 Cereals with the Lowest Ratings')\n",
    "plt.tight_layout()\n",
    "plt.show()"
   ]
  },
  {
   "cell_type": "code",
   "execution_count": 21,
   "id": "415d880b",
   "metadata": {},
   "outputs": [
    {
     "data": {
      "image/png": "[encoded data removed]",
      "text/plain": [
       "<Figure size 432x288 with 1 Axes>"
      ]
     },
     "metadata": {
      "needs_background": "light"
     },
     "output_type": "display_data"
    }
   ],
   "source": [
    "#Scatter plot: Calories vs Protein\n",
    "plt.scatter(df['calories'], df['protein'])\n",
    "plt.xlabel('Calories')\n",
    "plt.ylabel('Protein')\n",
    "plt.title('Calories vs Protein')\n",
    "plt.show()"
   ]
  },
  {
   "cell_type": "code",
   "execution_count": 22,
   "id": "2491420c",
   "metadata": {},
   "outputs": [
    {
     "data": {
      "image/png": "[encoded data removed]",
      "text/plain": [
       "<Figure size 432x288 with 2 Axes>"
      ]
     },
     "metadata": {
      "needs_background": "light"
     },
     "output_type": "display_data"
    }
   ],
   "source": [
    "#Create a pivot table with 'mfr' and 'type' as rows and columns, and 'rating' as values\n",
    "pivot_tabel = df.pivot_table(values='rating', index='mfr', columns='type')\n",
    "\n",
    "#Create the heatmap using seaborn\n",
    "sns.heatmap(pivot_tabel,cmap='YlGnBu', annot=True , fmt=\".1f\")\n",
    "\n",
    "#Set the plot title and labels\n",
    "plt.title('Cereal Rating by Manufacturer and Type')\n",
    "plt.xlabel('Type')\n",
    "plt.ylabel('Manufacturer')\n",
    "\n",
    "#Display the heatmap\n",
    "plt.show()"
   ]
  },
  {
   "cell_type": "code",
   "execution_count": 23,
   "id": "212e8c6d",
   "metadata": {},
   "outputs": [
    {
     "data": {
      "text/plain": [
       "array(['Nabisco', 'Quaker Oats', 'Kelloggs', 'General Mills',\n",
       "       'Ralston Purina', 'Post', 'American Home Food Products'],\n",
       "      dtype=object)"
      ]
     },
     "execution_count": 23,
     "metadata": {},
     "output_type": "execute_result"
    }
   ],
   "source": [
    "df['mfr'].unique()"
   ]
  },
  {
   "cell_type": "code",
   "execution_count": 26,
   "id": "30b1bf7f",
   "metadata": {},
   "outputs": [
    {
     "data": {
      "text/plain": [
       "<Figure size 864x432 with 0 Axes>"
      ]
     },
     "metadata": {},
     "output_type": "display_data"
    },
    {
     "data": {
      "image/png": "[encoded data removed]",
      "text/plain": [
       "<Figure size 432x288 with 1 Axes>"
      ]
     },
     "metadata": {
      "needs_background": "light"
     },
     "output_type": "display_data"
    }
   ],
   "source": [
    "#Grouped bar plot : Nutritional content bt MAnufacturer\n",
    "nutritional_factors = ['calories', 'protein', 'fat', 'sodium', 'fiber', 'carbo', 'sugars', 'potass','vitamins']\n",
    "manufacturer_labels = ['American Home Food Products', 'General Mills', 'Kelloggs', 'Nabisco', 'Post', 'Quaker Oats', 'Ralston Purina']\n",
    "\n",
    "#Calculate the mean values for each nutritional factor and manufacturer\n",
    "mean_values = df.groupby('mfr')[nutritional_factors].mean()\n",
    "\n",
    "#Create the grouped bar plot\n",
    "plt.figure(figsize=(12,6))\n",
    "\n",
    "ax = mean_values.plot(kind = 'bar')\n",
    "plt.xlabel('Manufacturer')\n",
    "plt.ylabel('Mean Value')\n",
    "plt.title('Nutritional Content by Manufacturer')\n",
    "ax.legend(nutritional_factors, loc='center left', bbox_to_anchor=(1,0.5)) #Place legend to the right\n",
    "plt.xticks(range(len(manufacturer_labels)),manufacturer_labels, rotation='horizontal')\n",
    "plt.xticks(rotation=45, ha='right')\n",
    "plt.show()"
   ]
  },
  {
   "cell_type": "code",
   "execution_count": 27,
   "id": "d63ffe19",
   "metadata": {},
   "outputs": [
    {
     "data": {
      "image/png": "[encoded data removed]",
      "text/plain": [
       "<Figure size 432x288 with 1 Axes>"
      ]
     },
     "metadata": {
      "needs_background": "light"
     },
     "output_type": "display_data"
    }
   ],
   "source": [
    "#Select the relevent columns for nutrition features\n",
    "nutrition_cols = ['calories', 'protein', 'fat', 'sodium', 'fiber', 'carbo', 'sugars', 'potass']\n",
    "\n",
    "#Create a new DAtaFrame with only the nutrition columns\n",
    "nutrition_data = df[nutrition_cols]\n",
    "\n",
    "#Group the data by manufacturer and calculate the mean values fro each nutrition feature\n",
    "mean_nutrition = nutrition_data.groupby(df['mfr']).mean()\n",
    "\n",
    "#Reset the ndex to have 'mfr' as a column\n",
    "mean_nutrition.reset_index(inplace=True)\n",
    "\n",
    "#Melt the DataFrame to covert it into a long format\n",
    "melted_nutrition = pd.melt(mean_nutrition, id_vars = 'mfr',var_name ='nutrition', value_name ='mean_value')\n",
    "\n",
    "#Create the bar plot using seaborn\n",
    "sns.barplot(x='mean_value', y='nutrition', hue='mfr', data=melted_nutrition)\n",
    "\n",
    "#Set the plot title and labels\n",
    "plt.title('Mean Nutrition Values by Manufacturer')\n",
    "plt.xlabel('Mean Value')\n",
    "plt.ylabel('Nutrition Features')\n",
    "\n",
    "#Move the legend to the side and set the title\n",
    "plt.title('Mean Nutrition Vlaues by Manufacturer')\n",
    "plt.xlabel('Mean Value')\n",
    "plt.ylabel('Nutrition Features ')\n",
    "\n",
    "#Move the legend to the side and set the title\n",
    "plt.legend(title='Manufacturers', bbox_to_anchor=(1.05, 1), loc='upper left')\n",
    "\n",
    "#Display the plot\n",
    "plt.show()"
   ]
  },
  {
   "cell_type": "code",
   "execution_count": 29,
   "id": "239d0c14",
   "metadata": {},
   "outputs": [
    {
     "data": {
      "image/png": "[encoded data removed]",
      "text/plain": [
       "<Figure size 432x288 with 1 Axes>"
      ]
     },
     "metadata": {},
     "output_type": "display_data"
    }
   ],
   "source": [
    "import matplotlib.pyplot as plt\n",
    "\n",
    "#Get the highest-rated cereals by manufacturer\n",
    "highest_rating = df.groupby('mfr')['rating'].max().reset_index()\n",
    "\n",
    "#Sort the data by rating in descending order\n",
    "highest_rating = highest_rating.sort_values('rating', ascending=False)\n",
    "\n",
    "#Get the manufacturer names and corresponding ratings\n",
    "manufacturers = highest_rating['mfr'].tolist()\n",
    "ratings = highest_rating['rating'].tolist()\n",
    "\n",
    "#Create a pie chart\n",
    "plt.pie(ratings, labels=manufacturers,autopct='%1.1f%%', startangle=90)\n",
    "\n",
    "#Set the title of the pie chart\n",
    "plt.title(\"Highest-Rated cereal Manufacturers\")\n",
    "\n",
    "#Equal aspect ratio ensures that pie is drawn as a circle\n",
    "plt.axis('equal')\n",
    "\n",
    "#Display the pie chart\n",
    "plt.show()"
   ]
  },
  {
   "cell_type": "code",
   "execution_count": 30,
   "id": "9b53afb5",
   "metadata": {},
   "outputs": [
    {
     "data": {
      "image/png": "[encoded data removed]",
      "text/plain": [
       "<Figure size 432x288 with 1 Axes>"
      ]
     },
     "metadata": {
      "needs_background": "light"
     },
     "output_type": "display_data"
    }
   ],
   "source": [
    "#Calculate the average  potassium for each manufacturer\n",
    "avg_potassium = df.groupby('mfr')['potass'].mean().reset_index()\n",
    "\n",
    "#Sort the data by potassium in descending order\n",
    "avg_potassium = avg_potassium.sort_values('potass', ascending=False)\n",
    "\n",
    "#Plot the average potassium values\n",
    "plt.bar(avg_potassium['mfr'], avg_potassium['potass'])\n",
    "\n",
    "#Add labels an title\n",
    "plt.xlabel('Manufacturer')\n",
    "plt.ylabel('Average Potassium')\n",
    "plt.title('Average Potassium Content by Manufacturer')\n",
    "plt.xticks(rotation =45, ha='right')\n",
    "\n",
    "#annotate the highest potassium value if available\n",
    "nabisco_potassium = avg_potassium.loc[avg_potassium['mfr'] == 'N', 'potass']\n",
    "if not nabisco_potassium.empty:\n",
    "    nabisco_potassium = nabisco_potassium.values[0]\n",
    "    plt.annote('Nabisco',(2, nabisco_potassium), xytext=(2.5. nabisco_potassium+50),arrowprops = dict(facecolor='black', arrowstyle='->'),fontsize=10)\n",
    "\n",
    "#Display the plot\n",
    "plt.show()"
   ]
  },
  {
   "cell_type": "markdown",
   "id": "d81a692d",
   "metadata": {},
   "source": [
    "Insights and findings from the exploratory data analysis of the \"80 Cereal\" dataset:\n",
    "\n",
    "Nutritional Content: The EDA revealed variations in the nutritional content of cereals across different manufacturers. Some manufacturers tend to produce cereals with higher levels of certain nutrients, such as protein, fiber, or potassium, while others have lower levels. This suggests that there are significant differences in the nutritional profiles of cereals based on the manufacturer.\n",
    "Insight: Variation In Sodium Content Among Cereal Manufacturers\n",
    "\n",
    "A notable observation from the analysis is the relatively high sodium levels across the cereals in the dataset. This finding suggests that individuals should be cautious when considering these cereals as part of their diet, particularly if they are monitoring their sodium intake.\n",
    "\n",
    "On further examination, it becomes apparent that General Mills, one of the prominent cereal manufacturers, stands out for having the highest sodium content among the different companies. This implies that consumers who are particularly concerned about their sodium consumption may need to exercise caution when selecting General Mills cereals.\n",
    "\n",
    "Given the potential health implications associated with high sodium intake, it is advisable to refer to dietary guidelines and consult with healthcare professionals to determine an appropriate level of sodium intake for individual dietary needs.\n",
    "\n",
    "Calories and Nutritional Factors: The analysis examined the relationship between calories and other nutritional factors in cereals. It was found that there is not a correlation between calorie content and factors such as fat, sugar, and carbohydrates. Cereals with certain nutritional components do not appear to be related to high level of calories.\n",
    "Manufacturer Differences: The EDA highlighted potential differences in nutritional content based on the cereal manufacturer. By comparing the mean values of various nutrients across manufacturers, it was observed that certain manufacturers such as Kellogs and General Mills consistently produce cereals with higher levels of specific nutrients. This suggests that the choice of manufacturer can impact the nutritional composition of cereals.\n",
    "Limitations and Biases:\n",
    "\n",
    "Data Availability: The analysis is based on the available dataset, which may have limitations in terms of sample size or representativeness. The dataset may not include all cereals on the market or may not represent the entire population of cereal products. One certain limitation is as the dataset author states: \"rating: a rating of the cereals (Possibly from Consumer Reports?)\". The \"rating\" column lacks information about itself(what it stands for)."
   ]
  },
  {
   "cell_type": "code",
   "execution_count": null,
   "id": "e83fcb65",
   "metadata": {},
   "outputs": [],
   "source": []
  }
 ],
 "metadata": {
  "kernelspec": {
   "display_name": "Python 3 (ipykernel)",
   "language": "python",
   "name": "python3"
  },
  "language_info": {
   "codemirror_mode": {
    "name": "ipython",
    "version": 3
   },
   "file_extension": ".py",
   "mimetype": "text/x-python",
   "name": "python",
   "nbconvert_exporter": "python",
   "pygments_lexer": "ipython3",
   "version": "3.9.12"
  }
 },
 "nbformat": 4,
 "nbformat_minor": 5
}
